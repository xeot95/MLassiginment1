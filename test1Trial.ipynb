{
 "cells": [
  {
   "cell_type": "code",
   "execution_count": 1,
   "metadata": {},
   "outputs": [
    {
     "data": {
      "text/plain": [
       "<Figure size 640x480 with 1 Axes>"
      ]
     },
     "metadata": {},
     "output_type": "display_data"
    }
   ],
   "source": [
    "import numpy as np\n",
    "import matplotlib.pyplot as plt\n",
    "import os\n",
    "import cv2\n",
    "from tqdm import tqdm\n",
    "\n",
    "DATADIR = \"D:/Valid\"\n",
    "\n",
    "CATEGORIES = [\"Dog\", \"Cat\"]\n",
    "\n",
    "for category in CATEGORIES:  # do dogs and cats\n",
    "    path = os.path.join(DATADIR,category)  # create path to dogs and cats\n",
    "    for img in os.listdir(path):  # iterate over each image per dogs and cats\n",
    "        img_array = cv2.imread(os.path.join(path,img) ,cv2.IMREAD_GRAYSCALE)  # convert to array\n",
    "        IMG_SIZE = 100\n",
    "        new_array = cv2.resize(img_array, (IMG_SIZE, IMG_SIZE))\n",
    "        plt.imshow(new_array, cmap='gray')\n",
    "        plt.show()\n",
    "       \n",
    "\n",
    "        break  \n",
    "    break  "
   ]
  },
  {
   "cell_type": "code",
   "execution_count": null,
   "metadata": {},
   "outputs": [],
   "source": []
  },
  {
   "cell_type": "code",
   "execution_count": 2,
   "metadata": {},
   "outputs": [
    {
     "name": "stderr",
     "output_type": "stream",
     "text": [
      "100%|███████████████████████████████████████████████████████████████████████████████| 501/501 [00:00<00:00, 751.58it/s]\n",
      "100%|███████████████████████████████████████████████████████████████████████████████| 501/501 [00:00<00:00, 861.06it/s]\n"
     ]
    },
    {
     "name": "stdout",
     "output_type": "stream",
     "text": [
      "1001\n"
     ]
    }
   ],
   "source": [
    "training_data = []\n",
    "\n",
    "def create_training_data():\n",
    "    for category in CATEGORIES:  # do dogs and cats\n",
    "\n",
    "        path = os.path.join(DATADIR,category)  # create path to dogs and cats\n",
    "        class_num = CATEGORIES.index(category)  # get the classification  (0 or a 1). 0=dog 1=cat\n",
    "\n",
    "        for img in tqdm(os.listdir(path)):  # iterate over each image per dogs and cats\n",
    "            try:\n",
    "                img_array = cv2.imread(os.path.join(path,img) ,cv2.IMREAD_GRAYSCALE)  # convert to array\n",
    "                new_array = cv2.resize(img_array, (IMG_SIZE, IMG_SIZE))  # resize to normalize data size\n",
    "                training_data.append([new_array, class_num])  # add this to our training_data\n",
    "            except Exception as e:  # in the interest in keeping the output clean...\n",
    "                pass\n",
    "          \n",
    "\n",
    "create_training_data()\n",
    "\n",
    "print(len(training_data))"
   ]
  },
  {
   "cell_type": "code",
   "execution_count": 3,
   "metadata": {},
   "outputs": [
    {
     "name": "stdout",
     "output_type": "stream",
     "text": [
      "0\n",
      "0\n",
      "0\n",
      "1\n",
      "1\n",
      "0\n",
      "0\n",
      "0\n",
      "1\n",
      "1\n"
     ]
    }
   ],
   "source": [
    "import random\n",
    "\n",
    "random.shuffle(training_data)\n",
    "\n",
    "for sample in training_data[:10]:\n",
    "    print(sample[1])"
   ]
  },
  {
   "cell_type": "code",
   "execution_count": 4,
   "metadata": {},
   "outputs": [
    {
     "name": "stdout",
     "output_type": "stream",
     "text": [
      "[[[[146]\n",
      "   [155]\n",
      "   [152]\n",
      "   ...\n",
      "   [183]\n",
      "   [185]\n",
      "   [187]]\n",
      "\n",
      "  [[168]\n",
      "   [172]\n",
      "   [180]\n",
      "   ...\n",
      "   [176]\n",
      "   [180]\n",
      "   [175]]\n",
      "\n",
      "  [[161]\n",
      "   [156]\n",
      "   [168]\n",
      "   ...\n",
      "   [169]\n",
      "   [175]\n",
      "   [174]]\n",
      "\n",
      "  ...\n",
      "\n",
      "  [[130]\n",
      "   [128]\n",
      "   [153]\n",
      "   ...\n",
      "   [124]\n",
      "   [113]\n",
      "   [118]]\n",
      "\n",
      "  [[124]\n",
      "   [125]\n",
      "   [137]\n",
      "   ...\n",
      "   [127]\n",
      "   [120]\n",
      "   [115]]\n",
      "\n",
      "  [[111]\n",
      "   [122]\n",
      "   [131]\n",
      "   ...\n",
      "   [133]\n",
      "   [122]\n",
      "   [113]]]]\n"
     ]
    }
   ],
   "source": [
    "X = []\n",
    "y = []\n",
    "\n",
    "for features,label in training_data:\n",
    "    X.append(features)\n",
    "    y.append(label)\n",
    "\n",
    "print(X[0].reshape(-1, IMG_SIZE, IMG_SIZE, 1))\n",
    "\n",
    "X = np.array(X).reshape(-1, IMG_SIZE, IMG_SIZE, 1)"
   ]
  },
  {
   "cell_type": "code",
   "execution_count": 5,
   "metadata": {},
   "outputs": [],
   "source": [
    "import pickle\n",
    "\n",
    "pickle_out = open(\"X.pickle\",\"wb\")\n",
    "pickle.dump(X, pickle_out)\n",
    "pickle_out.close()\n",
    "\n",
    "pickle_out = open(\"y.pickle\",\"wb\")\n",
    "pickle.dump(y, pickle_out)\n",
    "pickle_out.close()\n",
    "\n",
    "pickle_in = open(\"X.pickle\",\"rb\")\n",
    "X = pickle.load(pickle_in)\n",
    "\n",
    "pickle_in = open(\"y.pickle\",\"rb\")\n",
    "y = pickle.load(pickle_in)\n",
    "#print(X)"
   ]
  },
  {
   "cell_type": "code",
   "execution_count": 6,
   "metadata": {
    "scrolled": true
   },
   "outputs": [
    {
     "name": "stdout",
     "output_type": "stream",
     "text": [
      "3-conv-64-nodes-0-dense-1549442687\n",
      "Train on 700 samples, validate on 301 samples\n",
      "Epoch 1/10\n",
      "700/700 [==============================] - ETA: 16s - loss: 0.6972 - acc: 0.43 - ETA: 14s - loss: 0.6919 - acc: 0.50 - ETA: 12s - loss: 0.7052 - acc: 0.46 - ETA: 11s - loss: 0.7008 - acc: 0.48 - ETA: 10s - loss: 0.7000 - acc: 0.47 - ETA: 10s - loss: 0.6987 - acc: 0.47 - ETA: 9s - loss: 0.6975 - acc: 0.5089 - ETA: 8s - loss: 0.6973 - acc: 0.492 - ETA: 8s - loss: 0.6966 - acc: 0.506 - ETA: 7s - loss: 0.6970 - acc: 0.490 - ETA: 6s - loss: 0.6965 - acc: 0.491 - ETA: 6s - loss: 0.6961 - acc: 0.497 - ETA: 5s - loss: 0.6960 - acc: 0.488 - ETA: 4s - loss: 0.6958 - acc: 0.488 - ETA: 4s - loss: 0.6956 - acc: 0.483 - ETA: 3s - loss: 0.6953 - acc: 0.490 - ETA: 2s - loss: 0.6951 - acc: 0.490 - ETA: 2s - loss: 0.6951 - acc: 0.489 - ETA: 1s - loss: 0.6953 - acc: 0.488 - ETA: 1s - loss: 0.6952 - acc: 0.489 - ETA: 0s - loss: 0.6955 - acc: 0.483 - 15s 21ms/step - loss: 0.6955 - acc: 0.4800 - val_loss: 0.6930 - val_acc: 0.5017\n",
      "Epoch 2/10\n",
      "160/700 [=====>........................] - ETA: 13s - loss: 0.6903 - acc: 0.75 - ETA: 12s - loss: 0.6906 - acc: 0.68 - ETA: 17s - loss: 0.6916 - acc: 0.62 - ETA: 17s - loss: 0.6924 - acc: 0.57 - ETA: 17s - loss: 0.6917 - acc: 0.5687WARNING:tensorflow:Method on_batch_end() is slow compared to the batch update (0.598405). Check your callbacks.\n",
      "192/700 [=======>......................] - ETA: 17s - loss: 0.6916 - acc: 0.5573WARNING:tensorflow:Method on_batch_end() is slow compared to the batch update (0.607341). Check your callbacks.\n",
      "224/700 [========>.....................] - ETA: 15s - loss: 0.6916 - acc: 0.5491WARNING:tensorflow:Method on_batch_end() is slow compared to the batch update (0.598405). Check your callbacks.\n",
      "700/700 [==============================] - ETA: 13s - loss: 0.6913 - acc: 0.54 - ETA: 12s - loss: 0.6909 - acc: 0.55 - ETA: 10s - loss: 0.6911 - acc: 0.55 - ETA: 9s - loss: 0.6922 - acc: 0.5369 - ETA: 8s - loss: 0.6924 - acc: 0.526 - ETA: 7s - loss: 0.6925 - acc: 0.521 - ETA: 6s - loss: 0.6926 - acc: 0.515 - ETA: 5s - loss: 0.6924 - acc: 0.518 - ETA: 4s - loss: 0.6923 - acc: 0.523 - ETA: 3s - loss: 0.6922 - acc: 0.531 - ETA: 3s - loss: 0.6922 - acc: 0.531 - ETA: 2s - loss: 0.6922 - acc: 0.534 - ETA: 1s - loss: 0.6922 - acc: 0.537 - ETA: 0s - loss: 0.6921 - acc: 0.535 - 20s 28ms/step - loss: 0.6918 - acc: 0.5443 - val_loss: 0.6901 - val_acc: 0.5216\n",
      "Epoch 3/10\n",
      "700/700 [==============================] - ETA: 16s - loss: 0.6916 - acc: 0.50 - ETA: 13s - loss: 0.6898 - acc: 0.51 - ETA: 11s - loss: 0.6846 - acc: 0.57 - ETA: 10s - loss: 0.6905 - acc: 0.52 - ETA: 9s - loss: 0.6927 - acc: 0.5125 - ETA: 9s - loss: 0.6955 - acc: 0.489 - ETA: 9s - loss: 0.6938 - acc: 0.500 - ETA: 8s - loss: 0.6936 - acc: 0.492 - ETA: 8s - loss: 0.6927 - acc: 0.500 - ETA: 7s - loss: 0.6914 - acc: 0.521 - ETA: 7s - loss: 0.6909 - acc: 0.528 - ETA: 6s - loss: 0.6911 - acc: 0.523 - ETA: 5s - loss: 0.6913 - acc: 0.524 - ETA: 5s - loss: 0.6910 - acc: 0.537 - ETA: 4s - loss: 0.6907 - acc: 0.547 - ETA: 4s - loss: 0.6906 - acc: 0.552 - ETA: 3s - loss: 0.6904 - acc: 0.549 - ETA: 2s - loss: 0.6905 - acc: 0.541 - ETA: 2s - loss: 0.6902 - acc: 0.549 - ETA: 1s - loss: 0.6901 - acc: 0.548 - ETA: 0s - loss: 0.6896 - acc: 0.547 - 17s 24ms/step - loss: 0.6893 - acc: 0.5486 - val_loss: 0.6855 - val_acc: 0.5183\n",
      "Epoch 4/10\n",
      "700/700 [==============================] - ETA: 12s - loss: 0.6740 - acc: 0.53 - ETA: 12s - loss: 0.6882 - acc: 0.50 - ETA: 11s - loss: 0.6768 - acc: 0.55 - ETA: 11s - loss: 0.6669 - acc: 0.57 - ETA: 10s - loss: 0.6807 - acc: 0.53 - ETA: 9s - loss: 0.6802 - acc: 0.5312 - ETA: 9s - loss: 0.6817 - acc: 0.517 - ETA: 8s - loss: 0.6800 - acc: 0.535 - ETA: 7s - loss: 0.6797 - acc: 0.534 - ETA: 7s - loss: 0.6795 - acc: 0.553 - ETA: 6s - loss: 0.6785 - acc: 0.573 - ETA: 6s - loss: 0.6780 - acc: 0.580 - ETA: 5s - loss: 0.6775 - acc: 0.579 - ETA: 4s - loss: 0.6770 - acc: 0.578 - ETA: 4s - loss: 0.6778 - acc: 0.579 - ETA: 3s - loss: 0.6790 - acc: 0.576 - ETA: 2s - loss: 0.6795 - acc: 0.568 - ETA: 2s - loss: 0.6791 - acc: 0.572 - ETA: 1s - loss: 0.6783 - acc: 0.575 - ETA: 1s - loss: 0.6792 - acc: 0.573 - ETA: 0s - loss: 0.6773 - acc: 0.581 - 16s 23ms/step - loss: 0.6756 - acc: 0.5871 - val_loss: 0.6669 - val_acc: 0.5482\n",
      "Epoch 5/10\n",
      "700/700 [==============================] - ETA: 11s - loss: 0.7109 - acc: 0.50 - ETA: 10s - loss: 0.6580 - acc: 0.59 - ETA: 10s - loss: 0.6541 - acc: 0.56 - ETA: 9s - loss: 0.6595 - acc: 0.5547 - ETA: 8s - loss: 0.6541 - acc: 0.581 - ETA: 8s - loss: 0.6553 - acc: 0.578 - ETA: 8s - loss: 0.6485 - acc: 0.607 - ETA: 7s - loss: 0.6491 - acc: 0.613 - ETA: 7s - loss: 0.6571 - acc: 0.611 - ETA: 6s - loss: 0.6583 - acc: 0.615 - ETA: 6s - loss: 0.6533 - acc: 0.619 - ETA: 5s - loss: 0.6466 - acc: 0.625 - ETA: 4s - loss: 0.6504 - acc: 0.620 - ETA: 4s - loss: 0.6540 - acc: 0.613 - ETA: 3s - loss: 0.6574 - acc: 0.608 - ETA: 3s - loss: 0.6601 - acc: 0.601 - ETA: 3s - loss: 0.6621 - acc: 0.599 - ETA: 2s - loss: 0.6592 - acc: 0.597 - ETA: 1s - loss: 0.6581 - acc: 0.597 - ETA: 1s - loss: 0.6544 - acc: 0.598 - ETA: 0s - loss: 0.6546 - acc: 0.593 - 16s 22ms/step - loss: 0.6508 - acc: 0.5971 - val_loss: 0.6491 - val_acc: 0.5814\n",
      "Epoch 6/10\n",
      "700/700 [==============================] - ETA: 11s - loss: 0.6216 - acc: 0.56 - ETA: 11s - loss: 0.6579 - acc: 0.53 - ETA: 10s - loss: 0.6362 - acc: 0.58 - ETA: 10s - loss: 0.6536 - acc: 0.56 - ETA: 9s - loss: 0.6434 - acc: 0.5750 - ETA: 9s - loss: 0.6199 - acc: 0.614 - ETA: 8s - loss: 0.6274 - acc: 0.607 - ETA: 8s - loss: 0.6220 - acc: 0.613 - ETA: 7s - loss: 0.6212 - acc: 0.628 - ETA: 7s - loss: 0.6233 - acc: 0.628 - ETA: 6s - loss: 0.6240 - acc: 0.636 - ETA: 5s - loss: 0.6160 - acc: 0.645 - ETA: 5s - loss: 0.6082 - acc: 0.658 - ETA: 4s - loss: 0.6086 - acc: 0.656 - ETA: 4s - loss: 0.6204 - acc: 0.652 - ETA: 3s - loss: 0.6204 - acc: 0.652 - ETA: 3s - loss: 0.6201 - acc: 0.652 - ETA: 2s - loss: 0.6174 - acc: 0.658 - ETA: 1s - loss: 0.6207 - acc: 0.656 - ETA: 1s - loss: 0.6162 - acc: 0.667 - ETA: 0s - loss: 0.6178 - acc: 0.663 - 17s 24ms/step - loss: 0.6172 - acc: 0.6657 - val_loss: 0.6338 - val_acc: 0.6080\n",
      "Epoch 7/10\n",
      "700/700 [==============================] - ETA: 11s - loss: 0.5230 - acc: 0.81 - ETA: 11s - loss: 0.5799 - acc: 0.70 - ETA: 11s - loss: 0.5494 - acc: 0.76 - ETA: 10s - loss: 0.5719 - acc: 0.71 - ETA: 10s - loss: 0.5695 - acc: 0.71 - ETA: 9s - loss: 0.5581 - acc: 0.7396 - ETA: 9s - loss: 0.5472 - acc: 0.754 - ETA: 8s - loss: 0.5425 - acc: 0.761 - ETA: 8s - loss: 0.5540 - acc: 0.750 - ETA: 8s - loss: 0.5460 - acc: 0.753 - ETA: 8s - loss: 0.5698 - acc: 0.727 - ETA: 7s - loss: 0.5646 - acc: 0.729 - ETA: 6s - loss: 0.5789 - acc: 0.713 - ETA: 6s - loss: 0.5845 - acc: 0.709 - ETA: 5s - loss: 0.5840 - acc: 0.708 - ETA: 5s - loss: 0.5876 - acc: 0.710 - ETA: 4s - loss: 0.5831 - acc: 0.709 - ETA: 3s - loss: 0.5833 - acc: 0.710 - ETA: 2s - loss: 0.5835 - acc: 0.708 - ETA: 1s - loss: 0.5804 - acc: 0.710 - ETA: 0s - loss: 0.5799 - acc: 0.709 - 22s 31ms/step - loss: 0.5827 - acc: 0.7014 - val_loss: 0.6093 - val_acc: 0.6512\n",
      "Epoch 8/10\n",
      "700/700 [==============================] - ETA: 12s - loss: 0.5222 - acc: 0.75 - ETA: 20s - loss: 0.5027 - acc: 0.78 - ETA: 18s - loss: 0.5252 - acc: 0.75 - ETA: 15s - loss: 0.5412 - acc: 0.73 - ETA: 13s - loss: 0.5358 - acc: 0.71 - ETA: 12s - loss: 0.5199 - acc: 0.75 - ETA: 11s - loss: 0.5425 - acc: 0.73 - ETA: 10s - loss: 0.5320 - acc: 0.73 - ETA: 9s - loss: 0.5421 - acc: 0.7326 - ETA: 9s - loss: 0.5363 - acc: 0.746 - ETA: 8s - loss: 0.5319 - acc: 0.744 - ETA: 8s - loss: 0.5426 - acc: 0.724 - ETA: 7s - loss: 0.5330 - acc: 0.733 - ETA: 7s - loss: 0.5404 - acc: 0.725 - ETA: 6s - loss: 0.5491 - acc: 0.714 - ETA: 5s - loss: 0.5563 - acc: 0.712 - ETA: 4s - loss: 0.5587 - acc: 0.711 - ETA: 3s - loss: 0.5668 - acc: 0.701 - ETA: 2s - loss: 0.5626 - acc: 0.708 - ETA: 1s - loss: 0.5633 - acc: 0.706 - ETA: 0s - loss: 0.5613 - acc: 0.706 - 20s 29ms/step - loss: 0.5592 - acc: 0.7114 - val_loss: 0.6312 - val_acc: 0.6312\n",
      "Epoch 9/10\n",
      "700/700 [==============================] - ETA: 13s - loss: 0.5684 - acc: 0.84 - ETA: 11s - loss: 0.5760 - acc: 0.78 - ETA: 11s - loss: 0.5597 - acc: 0.76 - ETA: 10s - loss: 0.5591 - acc: 0.71 - ETA: 9s - loss: 0.5592 - acc: 0.7000 - ETA: 9s - loss: 0.5348 - acc: 0.729 - ETA: 8s - loss: 0.5348 - acc: 0.723 - ETA: 8s - loss: 0.5341 - acc: 0.718 - ETA: 7s - loss: 0.5216 - acc: 0.739 - ETA: 7s - loss: 0.5223 - acc: 0.740 - ETA: 6s - loss: 0.5193 - acc: 0.750 - ETA: 6s - loss: 0.5111 - acc: 0.755 - ETA: 5s - loss: 0.5216 - acc: 0.750 - ETA: 4s - loss: 0.5196 - acc: 0.752 - ETA: 4s - loss: 0.5221 - acc: 0.750 - ETA: 3s - loss: 0.5192 - acc: 0.750 - ETA: 3s - loss: 0.5217 - acc: 0.746 - ETA: 2s - loss: 0.5148 - acc: 0.750 - ETA: 1s - loss: 0.5231 - acc: 0.743 - ETA: 1s - loss: 0.5239 - acc: 0.743 - ETA: 0s - loss: 0.5189 - acc: 0.747 - 17s 24ms/step - loss: 0.5186 - acc: 0.7457 - val_loss: 0.6224 - val_acc: 0.6512\n",
      "Epoch 10/10\n",
      "700/700 [==============================] - ETA: 14s - loss: 0.4457 - acc: 0.81 - ETA: 14s - loss: 0.4570 - acc: 0.78 - ETA: 13s - loss: 0.4465 - acc: 0.77 - ETA: 12s - loss: 0.4528 - acc: 0.76 - ETA: 13s - loss: 0.4557 - acc: 0.76 - ETA: 12s - loss: 0.4502 - acc: 0.76 - ETA: 11s - loss: 0.4407 - acc: 0.78 - ETA: 10s - loss: 0.4456 - acc: 0.77 - ETA: 10s - loss: 0.4373 - acc: 0.78 - ETA: 9s - loss: 0.4362 - acc: 0.7844 - ETA: 8s - loss: 0.4281 - acc: 0.792 - ETA: 7s - loss: 0.4203 - acc: 0.796 - ETA: 6s - loss: 0.4173 - acc: 0.795 - ETA: 5s - loss: 0.4227 - acc: 0.794 - ETA: 4s - loss: 0.4244 - acc: 0.791 - ETA: 4s - loss: 0.4297 - acc: 0.787 - ETA: 3s - loss: 0.4335 - acc: 0.784 - ETA: 2s - loss: 0.4284 - acc: 0.786 - ETA: 2s - loss: 0.4429 - acc: 0.776 - ETA: 1s - loss: 0.4451 - acc: 0.773 - ETA: 0s - loss: 0.4420 - acc: 0.776 - 19s 27ms/step - loss: 0.4463 - acc: 0.7729 - val_loss: 0.6308 - val_acc: 0.6777\n"
     ]
    }
   ],
   "source": [
    "from tensorflow.keras.models import Sequential\n",
    "from tensorflow.keras.layers import Dense, Dropout, Activation, Flatten\n",
    "from tensorflow.keras.layers import Conv2D, MaxPooling2D\n",
    "from tensorflow.keras.callbacks import TensorBoard\n",
    "import pickle\n",
    "import time\n",
    "\n",
    "pickle_in = open(\"X.pickle\",\"rb\")\n",
    "X = pickle.load(pickle_in)\n",
    "\n",
    "pickle_in = open(\"y.pickle\",\"rb\")\n",
    "y = pickle.load(pickle_in)\n",
    "\n",
    "X = X/255.0\n",
    "\n",
    "dense_layers = [0]\n",
    "layer_sizes = [64]\n",
    "conv_layers = [3]\n",
    "\n",
    "for dense_layer in dense_layers:\n",
    "    for layer_size in layer_sizes:\n",
    "        for conv_layer in conv_layers:\n",
    "            NAME = \"{}-conv-{}-nodes-{}-dense-{}\".format(conv_layer, layer_size, dense_layer, int(time.time()))\n",
    "            print(NAME)\n",
    "\n",
    "            model = Sequential()\n",
    "\n",
    "            model.add(Conv2D(layer_size, (3, 3), input_shape=X.shape[1:]))\n",
    "            model.add(Activation('relu'))\n",
    "            model.add(MaxPooling2D(pool_size=(2, 2)))\n",
    "\n",
    "            for l in range(conv_layer-1):\n",
    "                model.add(Conv2D(layer_size, (3, 3)))\n",
    "                model.add(Activation('relu'))\n",
    "                model.add(MaxPooling2D(pool_size=(2, 2)))\n",
    "\n",
    "            model.add(Flatten())\n",
    "\n",
    "            for _ in range(dense_layer):\n",
    "                model.add(Dense(layer_size))\n",
    "                model.add(Activation('relu'))\n",
    "\n",
    "            model.add(Dense(1))\n",
    "            model.add(Activation('sigmoid'))\n",
    "\n",
    "            tensorboard = TensorBoard(log_dir=\"logs/{}\".format(NAME))\n",
    "\n",
    "            model.compile(loss='binary_crossentropy',\n",
    "                          optimizer='adam',\n",
    "                          metrics=['accuracy'],\n",
    "                          )\n",
    "\n",
    "            model.fit(X, y,\n",
    "                      batch_size=32,\n",
    "                      epochs=10,\n",
    "                      validation_split=0.3,\n",
    "                      callbacks=[tensorboard])\n",
    "\n",
    "model.save('64x3-CNN.model')"
   ]
  },
  {
   "cell_type": "code",
   "execution_count": 7,
   "metadata": {},
   "outputs": [
    {
     "name": "stdout",
     "output_type": "stream",
     "text": [
      "[[1.]]\n",
      "Cat\n"
     ]
    }
   ],
   "source": [
    "#TESTING THE MODEL\n",
    "\n",
    "import cv2\n",
    "import tensorflow as tf\n",
    "\n",
    "CATEGORIES = [\"Dog\", \"Cat\"]\n",
    "\n",
    "\n",
    "def prepare(filepath):\n",
    "    IMG_SIZE = 100  \n",
    "    img_array = cv2.imread(filepath, cv2.IMREAD_GRAYSCALE)\n",
    "    new_array = cv2.resize(img_array, (IMG_SIZE, IMG_SIZE))\n",
    "    return new_array.reshape(-1, IMG_SIZE, IMG_SIZE, 1)\n",
    "\n",
    "\n",
    "model = tf.keras.models.load_model(\"64x3-CNN.model\")\n",
    "\n",
    "prediction = model.predict([prepare('cat.jpg')])\n",
    "print(prediction)  # will be a list in a list.\n",
    "print(CATEGORIES[int(prediction[0][0])])"
   ]
  },
  {
   "cell_type": "code",
   "execution_count": null,
   "metadata": {},
   "outputs": [],
   "source": []
  },
  {
   "cell_type": "code",
   "execution_count": null,
   "metadata": {},
   "outputs": [],
   "source": []
  }
 ],
 "metadata": {
  "kernelspec": {
   "display_name": "Python 3",
   "language": "python",
   "name": "python3"
  },
  "language_info": {
   "codemirror_mode": {
    "name": "ipython",
    "version": 3
   },
   "file_extension": ".py",
   "mimetype": "text/x-python",
   "name": "python",
   "nbconvert_exporter": "python",
   "pygments_lexer": "ipython3",
   "version": "3.6.6"
  }
 },
 "nbformat": 4,
 "nbformat_minor": 2
}
